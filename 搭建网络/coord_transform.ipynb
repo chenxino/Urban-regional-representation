{
 "cells": [
  {
   "cell_type": "code",
   "execution_count": 1,
   "metadata": {},
   "outputs": [],
   "source": [
    "# -*- encoding: utf-8 -*-\n",
    "import cv2\n",
    "import pandas as pd\n",
    "import numpy as np\n",
    "from pathlib import Path\n",
    "import os\n",
    "from multiprocessing import pool, cpu_count\n",
    "from pprint import pprint\n",
    "from matplotlib import pyplot as plt\n",
    "from pprint import pprint\n"
   ]
  },
  {
   "cell_type": "markdown",
   "metadata": {},
   "source": [
    "# get 4326时四点"
   ]
  },
  {
   "cell_type": "code",
   "execution_count": 4,
   "metadata": {},
   "outputs": [
    {
     "data": {
      "text/plain": [
       "'0.10'"
      ]
     },
     "execution_count": 4,
     "metadata": {},
     "output_type": "execute_result"
    }
   ],
   "source": [
    "import osmnx as ox\n",
    "%matplotlib inline\n",
    "ox.config(log_console=True, use_cache=True)\n",
    "ox.__version__"
   ]
  },
  {
   "cell_type": "code",
   "execution_count": 6,
   "metadata": {},
   "outputs": [],
   "source": [
    "G = ox.graph_from_place('上海市,China',which_result=2,simplify=False,\n",
    "     custom_filter=('[\"area\"!~\"yes\"][\"highway\"~\"ringway|primary\"]'\n",
    "                                      '[\"service\"!~\"parking|parking_aisle|driveway|private|emergency_access\"]'\n",
    "                                      '[\"motor_vehicle\"!~\"no\"][\"motorcar\"!~\"no\"]'\n",
    "                                      )\n",
    "                        )"
   ]
  },
  {
   "cell_type": "code",
   "execution_count": null,
   "metadata": {},
   "outputs": [],
   "source": [
    "fig, ax = ox.plot_graph(G, edge_linewidth=2, node_size=10)"
   ]
  },
  {
   "cell_type": "code",
   "execution_count": null,
   "metadata": {},
   "outputs": [],
   "source": [
    "nodes_proj, edges_proj = ox.graph_to_gdfs(G)\n",
    "nodes_proj.head()"
   ]
  },
  {
   "cell_type": "code",
   "execution_count": 7,
   "metadata": {},
   "outputs": [],
   "source": [
    "# Get the x coordinates of the nodes\n",
    "nodes_proj['x'] = nodes_proj[\"x\"].astype(float)"
   ]
  },
  {
   "cell_type": "code",
   "execution_count": 8,
   "metadata": {},
   "outputs": [
    {
     "data": {
      "text/plain": [
       "4326"
      ]
     },
     "execution_count": 8,
     "metadata": {},
     "output_type": "execute_result"
    }
   ],
   "source": [
    "from pyproj import CRS\n",
    "CRS(nodes_proj.crs).to_epsg()"
   ]
  },
  {
   "cell_type": "code",
   "execution_count": null,
   "metadata": {},
   "outputs": [],
   "source": [
    "# Get the x coordinates of the nodes\n",
    "nodes_proj['x'] = nodes_proj[\"x\"].astype(float)\n",
    "\n",
    "# 最西\n",
    "# Retrieve the maximum x value (i.e. the most eastern)\n",
    "maxx = nodes_proj['x'].min()\n",
    "print(maxx)\n",
    "target = nodes_proj.loc[nodes_proj['x']==maxx, 'geometry'].values[0]\n",
    "print(target)\n",
    "\n",
    "#最东\n",
    "max1 = nodes_proj['x'].max()\n",
    "print(max1)\n",
    "target = nodes_proj.loc[nodes_proj['x']==max1, 'geometry'].values[0]\n",
    "print(target)\n",
    "\n",
    "#最南\n",
    "max2 = nodes_proj['y'].min()\n",
    "print(max2)\n",
    "target = nodes_proj.loc[nodes_proj['y']==max2, 'geometry'].values[0]\n",
    "print(target)\n",
    "\n",
    "#最北\n",
    "max3 = nodes_proj['y'].max()\n",
    "print(max3)\n",
    "target = nodes_proj.loc[nodes_proj['y']==max3, 'geometry'].values[0]\n",
    "print(target)"
   ]
  },
  {
   "cell_type": "code",
   "execution_count": null,
   "metadata": {},
   "outputs": [],
   "source": [
    "map_src = Path('E:\\Program Files\\jupyter_code\\code/thinning.png')\n",
    "map_table = cv2.imread(str(map_src), 0)\n",
    "\n",
    "[rows, cols] = map_table.shape\n",
    "print(rows, cols)\n",
    "a1 = 0\n",
    "a2 = 1999\n",
    "b3 = 0\n",
    "b4 = 1999\n",
    "for i in range(rows):\n",
    "    for j in range(cols):\n",
    "        if map_table[i, j]>100:\n",
    "            if(i>a1):\n",
    "                a1 = i\n",
    "                b1 = j\n",
    "            if(i<a2):\n",
    "                a2 = i\n",
    "                b2 = j\n",
    "            if(j>b3):\n",
    "                a3 = i\n",
    "                b3 = j\n",
    "            if(j<b4):\n",
    "                a4 = i\n",
    "                b4 = j\n",
    "print(a1,b1)#最南\n",
    "print(a2,b2)#最北\n",
    "print(a3,b3)#最东\n",
    "print(a4,b4)#最西\n"
   ]
  },
  {
   "cell_type": "code",
   "execution_count": 3,
   "metadata": {},
   "outputs": [
    {
     "name": "stdout",
     "output_type": "stream",
     "text": [
      "1896.250418888416 -229280.27146698005\n",
      "-2215.827560963539 69829.24459460145\n"
     ]
    }
   ],
   "source": [
    "# 1800 2192\n",
    "# 1764 828最南\n",
    "# 34 733最北\n",
    "# 954 1800最东\n",
    "# 1392 175最西\n",
    "\n",
    "# 121.0047308 30.8856365最西\n",
    "# 121.8684836 30.8981152最东\n",
    "\n",
    "# 121.3490946 30.7177534最南\n",
    "# 121.3004672 31.5001065最北\n",
    "\n",
    "# 309274.1950475702 3418632.843091207\n",
    "# 401795.000767322 3418943.145763395\n",
    "\n",
    "# 334350.7659118437 3398258.160110353\n",
    "# 338594.3769534618 3486279.460481172\n",
    "\n",
    "gpsX = np.array([[121.3490946, 121.0047308,], [828,175]])\n",
    "gpsY = np.array([[30.7177534,30.8856365], [1764,1392]])\n",
    "\n",
    "diffX = gpsX[:, 1] - gpsX[:, 0]\n",
    "kx = diffX[1] / diffX[0]\n",
    "bx = gpsX[1, 0] - gpsX[0, 0] * kx\n",
    "\n",
    "diffY = gpsY[:, 1] - gpsY[:, 0]\n",
    "ky = diffY[1] / diffY[0]\n",
    "by = gpsY[1, 0] - gpsY[0, 0] * ky\n",
    "print(kx, bx) \n",
    "print(ky, by)"
   ]
  },
  {
   "cell_type": "code",
   "execution_count": 7,
   "metadata": {},
   "outputs": [
    {
     "name": "stdout",
     "output_type": "stream",
     "text": [
      "735.7902723805164 30.440438614736195\n"
     ]
    }
   ],
   "source": [
    "lon,lat = 121.3004672,31.5001065\n",
    "coordX = (kx * lon + bx)\n",
    "coordY = (ky * lat + by)\n",
    "print(coordX,coordY)"
   ]
  },
  {
   "cell_type": "code",
   "execution_count": 26,
   "metadata": {},
   "outputs": [],
   "source": [
    "def gps2xy(lon, lat):\n",
    "    # GPS coordinate: 121.0047308 30.8856365最西 121.9724096 30.8997416最东 121.2702538 30.7056483最南 121.3004672 31.5001065最北\n",
    "    # raster_loc = 1766 685最南 32 742最北 1340 1995最东 1365 192最西\n",
    "    \n",
    "    # calculate coefficient k and b\n",
    "    \"\"\"\n",
    "    gpsX = np.array([[103.9925022, 104.088888], [688, 1729]])\n",
    "    gpsY = np.array([[30.7097699, 30.590786], [856, 2144]])\n",
    "\n",
    "    diffX = gpsX[:, 1] - gpsX[:, 0]\n",
    "    kx = diffX[1] / diffX[0]\n",
    "    bx = gpsX[1, 0] - gpsX[0, 0] * kx\n",
    "\n",
    "    diffY = gpsY[:, 1] - gpsY[:, 0]\n",
    "    ky = diffY[1] / diffY[0]\n",
    "    by = gpsY[1, 0] - gpsY[0, 0] * ky\n",
    "    print(kx, bx) \n",
    "    print(ky, by)\n",
    "    \"\"\"\n",
    "    kx = 1896.250418888416 \n",
    "    bx = -229280.27146698005\n",
    "    ky = -2215.827560963539\n",
    "    by = 69829.24459460145\n",
    " \n",
    " \n",
    "    coordX = np.round(kx * lon + bx).astype(int)\n",
    "    coordY = np.round(ky * lat + by).astype(int)\n",
    "    # print(coordX, coordY)\n",
    "    return (coordX, coordY) \n",
    " "
   ]
  },
  {
   "cell_type": "code",
   "execution_count": null,
   "metadata": {},
   "outputs": [],
   "source": []
  },
  {
   "cell_type": "code",
   "execution_count": null,
   "metadata": {},
   "outputs": [],
   "source": []
  }
 ],
 "metadata": {
  "kernelspec": {
   "display_name": "Python [conda env:root] *",
   "language": "python",
   "name": "conda-root-py"
  },
  "language_info": {
   "codemirror_mode": {
    "name": "ipython",
    "version": 3
   },
   "file_extension": ".py",
   "mimetype": "text/x-python",
   "name": "python",
   "nbconvert_exporter": "python",
   "pygments_lexer": "ipython3",
   "version": "3.7.3"
  },
  "toc": {
   "base_numbering": 1,
   "nav_menu": {},
   "number_sections": true,
   "sideBar": true,
   "skip_h1_title": false,
   "title_cell": "Table of Contents",
   "title_sidebar": "Contents",
   "toc_cell": false,
   "toc_position": {},
   "toc_section_display": true,
   "toc_window_display": false
  }
 },
 "nbformat": 4,
 "nbformat_minor": 2
}
