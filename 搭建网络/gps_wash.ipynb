{
 "cells": [
  {
   "cell_type": "code",
   "execution_count": null,
   "metadata": {},
   "outputs": [],
   "source": [
    "import pandas as pd\n",
    "path = r'E:\\Program Files\\jupyter_code\\data\\taxi\\part-00000.txt'\n",
    "data = pd.read_csv(path,sep=',',chunksize = 10000,header=None,iterator=True)\n"
   ]
  },
  {
   "cell_type": "code",
   "execution_count": null,
   "metadata": {},
   "outputs": [],
   "source": [
    "chunks = []\n",
    "for chunk in data:\n",
    "    chunk.columns = ['id','1','empty','3','4','5','6','time','lng','lat','10','11','12']\n",
    "    del chunk['1']\n",
    "    del chunk['3']\n",
    "    del chunk['4']\n",
    "    del chunk['5']\n",
    "    del chunk['6']\n",
    "    del chunk['10']\n",
    "    del chunk['11']\n",
    "    del chunk['12']\n",
    "    chunks.append(chunk)\n",
    "    \n",
    "df = pd.concat(chunks, ignore_index=True)\n",
    "print(df)"
   ]
  },
  {
   "cell_type": "code",
   "execution_count": null,
   "metadata": {},
   "outputs": [],
   "source": [
    "df.to_csv('test.csv',index=None)"
   ]
  }
 ],
 "metadata": {
  "kernelspec": {
   "display_name": "Python [conda env:root] *",
   "language": "python",
   "name": "conda-root-py"
  },
  "language_info": {
   "codemirror_mode": {
    "name": "ipython",
    "version": 3
   },
   "file_extension": ".py",
   "mimetype": "text/x-python",
   "name": "python",
   "nbconvert_exporter": "python",
   "pygments_lexer": "ipython3",
   "version": "3.7.3"
  },
  "toc": {
   "base_numbering": 1,
   "nav_menu": {},
   "number_sections": true,
   "sideBar": true,
   "skip_h1_title": false,
   "title_cell": "Table of Contents",
   "title_sidebar": "Contents",
   "toc_cell": false,
   "toc_position": {},
   "toc_section_display": true,
   "toc_window_display": false
  }
 },
 "nbformat": 4,
 "nbformat_minor": 2
}
