{
 "cells": [
  {
   "cell_type": "code",
   "execution_count": 9,
   "metadata": {},
   "outputs": [],
   "source": [
    "import cv2 as cv\n",
    "import pandas as pd\n",
    "import os\n",
    "import numpy as np\n",
    "from matplotlib import pyplot as plt\n",
    "import time\n",
    "from pathlib import Path\n",
    "\n",
    "from pprint import pprint\n",
    "from collections import OrderedDict\n",
    "\n",
    "from multiprocessing import Pool, cpu_count, Queue\n",
    "from scipy.cluster.vq import kmeans2\n",
    "from sklearn.decomposition import LatentDirichletAllocation \n",
    "from sklearn.preprocessing import normalize\n",
    "pd.options.mode.chained_assignment = None\n"
   ]
  },
  {
   "cell_type": "code",
   "execution_count": 10,
   "metadata": {},
   "outputs": [],
   "source": [
    "#简单二值化，自己设置阈值\n",
    "def Two(image):\n",
    "    w,h = image.shape\n",
    "    size = (w,h)\n",
    "    iTwo = image\n",
    "    for i in range(w):\n",
    "        for j in range(h):\n",
    "            if image[i,j]>100:\n",
    "                iTwo[i,j] = 1\n",
    "            else:\n",
    "                iTwo[i,j] = 0\n",
    "    return iTwo "
   ]
  },
  {
   "cell_type": "code",
   "execution_count": 11,
   "metadata": {},
   "outputs": [],
   "source": [
    "# 细化\n",
    "def neighbours(x,y,image):\n",
    "    \"Return 8-neighbours of image point P1(x,y), in a clockwise order\"\n",
    "    img = image\n",
    "    x_1, y_1, x1, y1 = x-1, y-1, x+1, y+1\n",
    "    return [ img[x_1][y], img[x_1][y1], img[x][y1], img[x1][y1],     # P2,P3,P4,P5\n",
    "                img[x1][y], img[x1][y_1], img[x][y_1], img[x_1][y_1] ]    # P6,P7,P8,P9\n",
    "\n",
    "def transitions(neighbours):\n",
    "    \"No. of 0,1 patterns (transitions from 0 to 1) in the ordered sequence\"\n",
    "    n = neighbours + neighbours[0:1]      # P2, P3, ... , P8, P9, P2\n",
    "    return sum( (n1, n2) == (0, 1) for n1, n2 in zip(n, n[1:]) )  # (P2,P3), (P3,P4), ... , (P8,P9), (P9,P2)\n",
    "\n",
    "def zhangSuen(image):\n",
    "    \"the Zhang-Suen Thinning Algorithm\"\n",
    "    Image_Thinned = image.copy()  # deepcopy to protect the original image\n",
    "    changing1 = changing2 = 1        #  the points to be removed (set as 0)\n",
    "    while changing1 or changing2:   #  iterates until no further changes occur in the image\n",
    "        # Step 1\n",
    "        changing1 = []\n",
    "        rows, columns = Image_Thinned.shape               # x for rows, y for columns\n",
    "        for x in range(1, rows - 1):                     # No. of  rows\n",
    "            for y in range(1, columns - 1):            # No. of columns\n",
    "                P2,P3,P4,P5,P6,P7,P8,P9 = n = neighbours(x, y, Image_Thinned)\n",
    "                if (Image_Thinned[x][y] == 1     and    # Condition 0: Point P1 in the object regions \n",
    "                    2 <= sum(n) <= 6   and    # Condition 1: 2<= N(P1) <= 6\n",
    "                    transitions(n) == 1 and    # Condition 2: S(P1)=1  \n",
    "                    P2 * P4 * P6 == 0  and    # Condition 3   \n",
    "                    P4 * P6 * P8 == 0):         # Condition 4\n",
    "                    changing1.append((x,y))\n",
    "        for x, y in changing1: \n",
    "            Image_Thinned[x][y] = 0\n",
    "        # Step 2\n",
    "        changing2 = []\n",
    "        for x in range(1, rows - 1):\n",
    "            for y in range(1, columns - 1):\n",
    "                P2,P3,P4,P5,P6,P7,P8,P9 = n = neighbours(x, y, Image_Thinned)\n",
    "                if (Image_Thinned[x][y] == 1   and        # Condition 0\n",
    "                    2 <= sum(n) <= 6  and       # Condition 1\n",
    "                    transitions(n) == 1 and      # Condition 2\n",
    "                    P2 * P4 * P8 == 0 and       # Condition 3\n",
    "                    P2 * P6 * P8 == 0):            # Condition 4\n",
    "                    changing2.append((x,y))    \n",
    "        for x, y in changing2: \n",
    "            Image_Thinned[x][y] = 0\n",
    "    return Image_Thinned\n",
    " \n"
   ]
  },
  {
   "cell_type": "code",
   "execution_count": 12,
   "metadata": {},
   "outputs": [],
   "source": [
    "#膨胀细化\n",
    "def map_segment(map_src):\n",
    "    #img = cv.imread('E:/Program Files/jupyter_code/first/images/shang1.png',0)\n",
    "    img = cv.imread(map_src,0)\n",
    "    iTwo2 = Two(img)\n",
    "    \n",
    "#     cv.imshow(\"iTwo\", iTwo2*255)\n",
    "#     cv.waitKey(0)\n",
    "    \n",
    "    kernel = np.ones((5,5),np.uint8)\n",
    "    dilated = cv.dilate(iTwo2, kernel, iterations = 1)\n",
    "    dilated_src = os.path.join(os.path.dirname(map_src), 'dilated.png')\n",
    "    cv.imwrite('out/dilated.png', dilated*255)\n",
    "    cv.imwrite('out/dilated2.png', 255-dilated*255)\n",
    "    img_after = cv.imread('out/dilated.png', 0)\n",
    "    # 调用自己实现的细化函数\n",
    "    img_after = zhangSuen(dilated)\n",
    "#     cv.imshow(\"bin1\",bin1*255)\n",
    "#     cv.waitKey(0)\n",
    "    plt.figure('dilated')\n",
    "    plt.imshow(dilated*255, cmap='gray')    \n",
    "    \n",
    "    plt.figure('processed')\n",
    "    plt.imshow(img_after*255, cmap='gray')\n",
    "    plt.show()\n",
    "    cv.imwrite('out/thinning.png', img_after*255)\n",
    "    cv.imwrite('out/thinning2.png', 255-img_after*255)"
   ]
  },
  {
   "cell_type": "markdown",
   "metadata": {},
   "source": [
    "#膨胀细化\n",
    "def map_segment(map_src):\n",
    "    #img = cv.imread('E:/Program Files/jupyter_code/first/images/shang1.png',0)\n",
    "    img = cv.imread(map_src,0)\n",
    "    # 自定义二值化函数，二值化图片\n",
    "    iTwo2 = Two(img)\n",
    "    \n",
    "#     cv.imshow(\"iTwo\", iTwo2*255)\n",
    "#     cv.waitKey(0)\n",
    "    \n",
    "    kernel = np.ones((5,5),np.uint8)\n",
    "    #使用cv自带的膨胀方式膨胀\n",
    "    dilated = cv.dilate(iTwo2, kernel, iterations = 1)\n",
    "    cv.imwrite('out/dilated.png', dilated*255)\n",
    "    img_after = cv.imread('out/dilated.png', 0)\n",
    "    # 调用自己参考zhang_suen细化算法实现的细化函数\n",
    "    img_after = zhangSuen(dilated)\n",
    "    plt.figure('dilated')\n",
    "    plt.imshow(dilated*255, cmap='gray')    \n",
    "    \n",
    "    plt.figure('processed')\n",
    "    plt.imshow(img_after*255, cmap='gray')\n",
    "    plt.show()\n",
    "    cv.imwrite('out/thinning.png', img_after*255)\n"
   ]
  },
  {
   "cell_type": "code",
   "execution_count": 13,
   "metadata": {},
   "outputs": [],
   "source": [
    "# 连通区域划分\n",
    "from skimage import measure\n",
    "from skimage import filters\n",
    "import geopandas as gpd\n",
    "\n",
    "def binarize(img):\n",
    "    return cv.adaptiveThreshold(img, 255, cv.ADAPTIVE_THRESH_MEAN_C, cv.THRESH_BINARY, 5, 10)\n",
    "\n",
    "\n",
    "\n",
    "def ccl(map_src, save2disk=False):\n",
    "    img = cv.imread(str(map_src), 0)\n",
    "    blobs =  binarize(img)\n",
    "\n",
    "    # kernel = np.ones((10,10), np.float32) / 25\n",
    "    blobs = blobs / 255\n",
    "    # all_labels = measure.label(blobs, connectivity=2)\n",
    "    blobs_labels = measure.label(blobs, neighbors=8, connectivity=1, background=0)\n",
    "    #connectivity=1采用四联通\n",
    "    np.savetxt('region_labeled.csv', blobs_labels, fmt='%d')\n",
    "\n",
    "    if save2disk:\n",
    "        plt.figure('ccl')\n",
    "        plt.imshow(blobs_labels, cmap='nipy_spectral')\n",
    "        plt.axis('off')\n",
    "        plt.show(block=False)\n",
    "        plt.imsave('out/ccl.png', blobs_labels, cmap='Spectral')\n",
    "        time.sleep(3)\n",
    "        plt.close()\n",
    "    return blobs_labels"
   ]
  },
  {
   "cell_type": "code",
   "execution_count": 6,
   "metadata": {},
   "outputs": [],
   "source": [
    "def main():\n",
    "    map_segment('E:\\Program Files\\jupyter_code\\code\\images\\shanghai3w.png')\n",
    "    ccl('E:\\Program Files\\jupyter_code\\code\\out\\thinning.png',True)"
   ]
  },
  {
   "cell_type": "code",
   "execution_count": 14,
   "metadata": {},
   "outputs": [
    {
     "data": {
      "image/png": "[encoded data removed]",
      "text/plain": [
       "<Figure size 432x288 with 1 Axes>"
      ]
     },
     "metadata": {
      "needs_background": "light"
     },
     "output_type": "display_data"
    },
    {
     "data": {
      "image/png": "[encoded data removed]",
      "text/plain": [
       "<Figure size 432x288 with 1 Axes>"
      ]
     },
     "metadata": {
      "needs_background": "light"
     },
     "output_type": "display_data"
    }
   ],
   "source": [
    "map_segment('E:\\Program Files\\jupyter_code\\code\\images\\shanghai3w.png')"
   ]
  },
  {
   "cell_type": "code",
   "execution_count": 37,
   "metadata": {},
   "outputs": [
    {
     "data": {
      "text/plain": [
       "-1"
      ]
     },
     "execution_count": 37,
     "metadata": {},
     "output_type": "execute_result"
    }
   ],
   "source": [
    "    img = cv.imread('E:\\Program Files\\jupyter_code\\code\\images\\shanghai3w.png',0)\n",
    "    iTwo2 = Two(img)\n",
    "    cv.imshow(\"iTwo\", iTwo2*255)\n",
    "    cv.waitKey(0)\n",
    "    \n",
    "    \n",
    "    kernel = np.ones((5,5),np.uint8)\n",
    "    dilated = cv.dilate(iTwo2, kernel, iterations = 1)\n",
    "    cv.imshow(\"iTwo\", dilated*255)\n",
    "    cv.waitKey(0)"
   ]
  },
  {
   "cell_type": "code",
   "execution_count": 57,
   "metadata": {},
   "outputs": [
    {
     "data": {
      "image/png": "[encoded data removed]",
      "text/plain": [
       "<Figure size 432x288 with 1 Axes>"
      ]
     },
     "metadata": {
      "needs_background": "light"
     },
     "output_type": "display_data"
    }
   ],
   "source": [
    "blobs_labels=ccl(\"thinning.png\",True)"
   ]
  },
  {
   "cell_type": "code",
   "execution_count": 58,
   "metadata": {},
   "outputs": [
    {
     "name": "stdout",
     "output_type": "stream",
     "text": [
      "159\n",
      "{0, 1, 2, 3, 4, 5, 6, 7, 8, 9, 10, 11, 12, 13, 14, 15, 16, 17, 18, 19, 20, 21, 22, 23, 24, 25, 26, 27, 28, 29, 30, 31, 32, 33, 34, 35, 36, 37, 38, 39, 40, 41, 42, 43, 44, 45, 46, 47, 48, 49, 50, 51, 52, 53, 54, 55, 56, 57, 58, 59, 60, 61, 62, 63, 64, 65, 66, 67, 68, 69, 70, 71, 72, 73, 74, 75, 76, 77, 78, 79, 80, 81, 82, 83, 84, 85, 86, 87, 88, 89, 90, 91, 92, 93, 94, 95, 96, 97, 98, 99, 100, 101, 102, 103, 104, 105, 106, 107, 108, 109, 110, 111, 112, 113, 114, 115, 116, 117, 118, 119, 120, 121, 122, 123, 124, 125, 126, 127, 128, 129, 130, 131, 132, 133, 134, 135, 136, 137, 138, 139, 140, 141, 142, 143, 144, 145, 146, 147, 148, 149, 150, 151, 152, 153, 154, 155, 156, 157, 158}\n"
     ]
    }
   ],
   "source": [
    "aa=set()\n",
    "for row in blobs_labels:\n",
    "    for cell in row:\n",
    "        #print(cell)\n",
    "        aa.add(cell)\n",
    "# for xx in np.nditer(blobs_labels):\n",
    "#     print (xx, end=\", \" )\n",
    "    \n",
    "print(len(aa))\n",
    "print(aa)"
   ]
  },
  {
   "cell_type": "code",
   "execution_count": null,
   "metadata": {},
   "outputs": [],
   "source": []
  }
 ],
 "metadata": {
  "kernelspec": {
   "display_name": "Python [conda env:root] *",
   "language": "python",
   "name": "conda-root-py"
  },
  "language_info": {
   "codemirror_mode": {
    "name": "ipython",
    "version": 3
   },
   "file_extension": ".py",
   "mimetype": "text/x-python",
   "name": "python",
   "nbconvert_exporter": "python",
   "pygments_lexer": "ipython3",
   "version": "3.7.3"
  },
  "toc": {
   "base_numbering": 1,
   "nav_menu": {},
   "number_sections": true,
   "sideBar": true,
   "skip_h1_title": false,
   "title_cell": "Table of Contents",
   "title_sidebar": "Contents",
   "toc_cell": false,
   "toc_position": {},
   "toc_section_display": true,
   "toc_window_display": false
  }
 },
 "nbformat": 4,
 "nbformat_minor": 2
}
