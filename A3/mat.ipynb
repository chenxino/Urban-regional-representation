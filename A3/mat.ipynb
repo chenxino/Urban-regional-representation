{
 "cells": [
  {
   "cell_type": "code",
   "execution_count": 1,
   "metadata": {},
   "outputs": [],
   "source": [
    "from __future__ import print_function\n",
    "import numpy as np\n",
    "import torch\n",
    "\n",
    "import time\n",
    "import random\n",
    "import math\n",
    "import networkx as nx\n",
    "# import node2vec #随机游走相关\n",
    "from utils import *\n",
    "import os\n",
    "# from config2 import *\n",
    "# from evaluation import *\n",
    "from tkinter import _flatten\n",
    "import classify\n",
    "from sklearn.manifold import TSNE\n",
    "import matplotlib.pyplot as plt\n",
    "import scipy.io as sio\n",
    "from sklearn.metrics import *\n",
    "from sklearn.metrics.pairwise import cosine_similarity\n",
    "import scipy.io as sio\n",
    "from sklearn.cluster import KMeans\n",
    "from sklearn.metrics import f1_score\n",
    "from sklearn.metrics import roc_auc_score\n",
    "from sklearn.metrics import average_precision_score\n",
    "from sklearn import metrics\n",
    "from munkres import Munkres, print_matrix\n",
    "from collections import Counter"
   ]
  },
  {
   "cell_type": "code",
   "execution_count": 2,
   "metadata": {},
   "outputs": [],
   "source": [
    "def create_A_L(inputFileName):\n",
    "    f = open(inputFileName, 'r')\n",
    "    lines = f.readlines()\n",
    "    f.close()\n",
    "    Adj_mat = []\n",
    "    for line in lines[0:]:\n",
    "        l = line.strip('\\n\\r').split(' ')\n",
    "        Adj_mat.append(l[0:])\n",
    "    Adj_mat = np.array(Adj_mat, dtype=np.float32)\n",
    "    for i in range(157):\n",
    "        for j in range(i-1,157):\n",
    "            if i == j:\n",
    "                Adj_mat[i][j] = 0\n",
    "            else :\n",
    "                Adj_mat[i][j] = Adj_mat[i][j]+Adj_mat[j][i]\n",
    "                Adj_mat[j][i] = Adj_mat[i][j]\n",
    "    return Adj_mat\n",
    "def four_ord_ppmi(matrix,node_size):\n",
    "    def recip_mat(matrix):\n",
    "        return np.reciprocal(np.sqrt(np.sum(matrix, axis=1)))\n",
    "    \n",
    "    dig_value = recip_mat(matrix).tolist()\n",
    "    dig_value = list(_flatten(dig_value))\n",
    "    trans_mat = np.mat(np.diag(dig_value))\n",
    "    trans_A = trans_mat*matrix*trans_mat\n",
    "    four_ord_mat = (trans_A + trans_A*trans_A + trans_A*trans_A*trans_A + trans_A*trans_A*trans_A*trans_A )/4\n",
    "    four_ord_mat_value = recip_mat(four_ord_mat)\n",
    "    dig_value2 = recip_mat(four_ord_mat).tolist()\n",
    "    dig_value2 = list(_flatten(dig_value2))\n",
    "    trans_mat2 = np.mat(np.diag(dig_value2))\n",
    "    trans_B = trans_mat2*four_ord_mat*trans_mat2\n",
    "    ppmi_mat = np.log(trans_B) - np.log(1/node_size)\n",
    "    ppmi_mat[np.isnan(ppmi_mat)] = 0.0\n",
    "    ppmi_mat[np.isinf(ppmi_mat)] = 0.0\n",
    "    ppmi_mat[np.isneginf(ppmi_mat)] = 0.0\n",
    "    ppmi_mat[ppmi_mat<0] = 0.0\n",
    "    return ppmi_mat\n",
    "#PPMI，特征矩阵\n",
    "def output_features_mat(trans_mat, feature_mat):\n",
    "    node_num = feature_mat.shape[0]\n",
    "    feature_num = feature_mat.shape[1]\n",
    "    output_feature_mat = np.zeros_like(feature_mat)\n",
    "    for i in range(node_num):\n",
    "        trans_weight_sum = 0\n",
    "        avg_features = np.zeros(shape=(feature_num))\n",
    "        node_i = np.array(trans_mat[i])[0]\n",
    "        node_i_index_array = np.nonzero(node_i)[0]\n",
    "        node_i_index_len = len(node_i_index_array)\n",
    "        for j in range(node_i_index_len):\n",
    "            trans_index = node_i_index_array[j]\n",
    "            trans_weight = node_i[trans_index]\n",
    "            avg_features += trans_weight * feature_mat[trans_index]\n",
    "            trans_weight_sum += trans_weight\n",
    "        avg_features /= trans_weight_sum\n",
    "        output_feature_mat[i] = avg_features\n",
    "    return output_feature_mat\n",
    "\n",
    "def read_feature2(inputFileName):\n",
    "    f = open(inputFileName, 'r')\n",
    "    lines = f.readlines()\n",
    "    f.close()\n",
    "    features = []\n",
    "    for line in lines[0:]:\n",
    "        l = line.strip('\\n\\r').split(' ')\n",
    "        features.append(l[0:])\n",
    "    features = np.array(features, dtype=np.float32)\n",
    "    return features\n"
   ]
  },
  {
   "cell_type": "code",
   "execution_count": 6,
   "metadata": {},
   "outputs": [
    {
     "name": "stdout",
     "output_type": "stream",
     "text": [
      "[[6.05737991e+01 2.41136990e+01 1.43002996e+01 ... 6.72195969e+01\n",
      "  4.80415039e+01 2.68676987e+01]\n",
      " [1.42530000e+00 5.42000011e-02 3.73400003e-01 ... 0.00000000e+00\n",
      "  5.33789968e+00 8.39600027e-01]\n",
      " [0.00000000e+00 0.00000000e+00 0.00000000e+00 ... 0.00000000e+00\n",
      "  0.00000000e+00 0.00000000e+00]\n",
      " ...\n",
      " [7.83899975e+00 4.55690002e+00 1.75489998e+00 ... 1.32402000e+01\n",
      "  1.06758995e+01 3.77830005e+00]\n",
      " [2.85049987e+00 1.89870000e+00 1.12010002e+00 ... 4.07390022e+00\n",
      "  4.00349998e+00 1.25940001e+00]\n",
      " [0.00000000e+00 2.71000005e-02 1.86700001e-01 ... 0.00000000e+00\n",
      "  0.00000000e+00 4.19800013e-01]]\n"
     ]
    }
   ],
   "source": [
    "input_feature_mat=read_feature2('E:\\Program Files\\jupyter_code\\code\\out\\out2.txt')*10000\n",
    "print(input_feature_mat)"
   ]
  },
  {
   "cell_type": "code",
   "execution_count": 12,
   "metadata": {},
   "outputs": [],
   "source": [
    "ccc = np.loadtxt(\"output.txt\")\n",
    "input_mat = four_ord_ppmi(ccc,157)\n",
    "output_feature_mat = output_features_mat(input_mat, input_feature_mat)"
   ]
  },
  {
   "cell_type": "code",
   "execution_count": 13,
   "metadata": {},
   "outputs": [
    {
     "name": "stdout",
     "output_type": "stream",
     "text": [
      "[[0.19828122 0.         0.         ... 0.         0.02750338 0.02004384]\n",
      " [0.         0.22062004 0.         ... 0.         0.         0.        ]\n",
      " [0.         0.         0.22070877 ... 0.         0.         0.        ]\n",
      " ...\n",
      " [0.         0.         0.         ... 0.21850097 0.03225768 0.        ]\n",
      " [0.02750338 0.         0.         ... 0.03225768 0.21361081 0.        ]\n",
      " [0.02004384 0.         0.         ... 0.         0.         0.21918053]]\n",
      "[[8.41549530e+01 2.91609955e+01 1.56001406e+01 ... 1.00548904e+02\n",
      "  8.41941223e+01 3.83139305e+01]\n",
      " [1.42529988e+00 5.42000011e-02 3.73399973e-01 ... 0.00000000e+00\n",
      "  5.33789968e+00 8.39600027e-01]\n",
      " [0.00000000e+00 0.00000000e+00 0.00000000e+00 ... 0.00000000e+00\n",
      "  0.00000000e+00 0.00000000e+00]\n",
      " ...\n",
      " [9.85940247e+01 3.17165241e+01 1.79913902e+01 ... 1.06985565e+02\n",
      "  9.82420197e+01 4.44198494e+01]\n",
      " [1.75184235e+02 5.79401131e+01 3.11351566e+01 ... 2.00294952e+02\n",
      "  1.77323425e+02 7.88019180e+01]\n",
      " [1.02511909e+02 3.22511063e+01 1.83086128e+01 ... 1.04642761e+02\n",
      "  1.01694740e+02 4.64346962e+01]]\n"
     ]
    }
   ],
   "source": [
    "print(input_mat)\n",
    "print(output_feature_mat)"
   ]
  },
  {
   "cell_type": "code",
   "execution_count": 14,
   "metadata": {},
   "outputs": [],
   "source": [
    "np.savetxt('output_feature.txt', output_feature_mat)"
   ]
  },
  {
   "cell_type": "code",
   "execution_count": null,
   "metadata": {},
   "outputs": [],
   "source": [
    "# 代码行104"
   ]
  }
 ],
 "metadata": {
  "kernelspec": {
   "display_name": "pytorch",
   "language": "python",
   "name": "pytorch"
  },
  "language_info": {
   "codemirror_mode": {
    "name": "ipython",
    "version": 3
   },
   "file_extension": ".py",
   "mimetype": "text/x-python",
   "name": "python",
   "nbconvert_exporter": "python",
   "pygments_lexer": "ipython3",
   "version": "3.7.6"
  },
  "toc": {
   "base_numbering": 1,
   "nav_menu": {},
   "number_sections": true,
   "sideBar": true,
   "skip_h1_title": false,
   "title_cell": "Table of Contents",
   "title_sidebar": "Contents",
   "toc_cell": false,
   "toc_position": {},
   "toc_section_display": true,
   "toc_window_display": false
  }
 },
 "nbformat": 4,
 "nbformat_minor": 2
}
