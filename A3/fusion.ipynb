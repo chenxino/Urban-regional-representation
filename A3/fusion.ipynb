{
 "cells": [
  {
   "cell_type": "code",
   "execution_count": 1,
   "metadata": {},
   "outputs": [],
   "source": [
    "import numpy as np\n",
    "import math"
   ]
  },
  {
   "cell_type": "code",
   "execution_count": 23,
   "metadata": {},
   "outputs": [],
   "source": [
    "cc=np.loadtxt(\"region_distance.csv\")"
   ]
  },
  {
   "cell_type": "code",
   "execution_count": 43,
   "metadata": {},
   "outputs": [],
   "source": [
    "# 建立边的数组\n",
    "def create_A_L(inputFileName):\n",
    "    f = open(inputFileName, 'r')\n",
    "    lines = f.readlines()\n",
    "    f.close()\n",
    "    Adj_mat = []\n",
    "    for line in lines[0:]:\n",
    "        l = line.strip('\\n\\r').split(' ')\n",
    "        Adj_mat.append(l[0:])\n",
    "    Adj_mat = np.array(Adj_mat, dtype=np.float32)\n",
    "    for i in range(157):\n",
    "        for j in range(i-1,157):\n",
    "            if i == j:\n",
    "                Adj_mat[i][j] = 0\n",
    "            else :\n",
    "                Adj_mat[i][j] = Adj_mat[i][j]+Adj_mat[j][i]\n",
    "                Adj_mat[j][i] = Adj_mat[i][j]\n",
    "    return Adj_mat\n",
    "c=create_A_L(\"flow.txt\")"
   ]
  },
  {
   "cell_type": "code",
   "execution_count": 27,
   "metadata": {},
   "outputs": [],
   "source": [
    "ccc=cc"
   ]
  },
  {
   "cell_type": "code",
   "execution_count": 44,
   "metadata": {},
   "outputs": [],
   "source": [
    "for i in range(157):\n",
    "    for j in range(i-1,157):\n",
    "        if cc[i][j] > 300:\n",
    "            a = 0\n",
    "        else:\n",
    "            a = (300 - cc[i][j])/300\n",
    "        if c[i][j] > 50:\n",
    "            b = 1\n",
    "        else:\n",
    "            b=c[i][j]/50\n",
    "        ccc[i][j]=(a+b)/2\n",
    "        ccc[j][i]=ccc[i][j]\n",
    "        if(i==j):\n",
    "            ccc[i][j]=1"
   ]
  },
  {
   "cell_type": "code",
   "execution_count": 45,
   "metadata": {},
   "outputs": [
    {
     "data": {
      "text/plain": [
       "1.0"
      ]
     },
     "execution_count": 45,
     "metadata": {},
     "output_type": "execute_result"
    }
   ],
   "source": [
    "ccc.max()"
   ]
  },
  {
   "cell_type": "code",
   "execution_count": 46,
   "metadata": {},
   "outputs": [
    {
     "name": "stdout",
     "output_type": "stream",
     "text": [
      "[[1.         0.49916805 0.49916667 ... 0.50915004 0.56905029 0.55906822]\n",
      " [0.49916805 1.         0.49916805 ... 0.49916667 0.49916667 0.49916667]\n",
      " [0.49916667 0.49916805 1.         ... 0.49916667 0.49916667 0.49916667]\n",
      " ...\n",
      " [0.50915004 0.49916667 0.49916667 ... 1.         0.57903494 0.49916667]\n",
      " [0.56905029 0.49916667 0.49916667 ... 0.57903494 1.         0.49916805]\n",
      " [0.55906822 0.49916667 0.49916667 ... 0.49916667 0.49916805 1.        ]]\n"
     ]
    }
   ],
   "source": [
    "for i in range(157):\n",
    "    for j in range(i-1,157):\n",
    "        if ccc[i][j] < 0:\n",
    "            ccc[i][j] = 0\n",
    "            ccc[j][i] = 0\n",
    "print(ccc)"
   ]
  },
  {
   "cell_type": "code",
   "execution_count": 47,
   "metadata": {},
   "outputs": [
    {
     "data": {
      "text/plain": [
       "array([91.40912168, 78.8999529 , 78.87998615, 78.87998615, 78.90993627,\n",
       "       78.93988637, 79.22940425, 79.60877252, 78.87000277, 78.88996952,\n",
       "       78.87000277, 79.4190884 , 78.87000277, 78.87000277, 79.1395539 ,\n",
       "       78.88996952, 78.87000277, 81.10627877, 78.87000277, 78.9398864 ,\n",
       "       78.94986977, 80.18780827, 78.88996952, 79.31925465, 78.87000277,\n",
       "       79.00977002, 78.9798199 , 78.87998615, 78.87000277, 78.98980327,\n",
       "       78.9798199 , 78.87000277, 81.83506515, 78.88996952, 80.26767527,\n",
       "       78.91991965, 78.92990302, 78.94986977, 78.91991965, 79.1395539 ,\n",
       "       79.03972015, 78.87000277, 78.87000277, 79.2194209 , 78.95985315,\n",
       "       79.98814077, 78.87000277, 79.67865615, 79.54887227, 78.9798199 ,\n",
       "       78.91991965, 78.8999529 , 78.87998615, 79.23938762, 79.07965359,\n",
       "       81.02641172, 78.91991962, 78.90993627, 79.2194209 , 81.6553644 ,\n",
       "       78.87000277, 78.90993627, 83.4124384 , 78.8999529 , 78.87000277,\n",
       "       78.95985315, 78.91991965, 79.44903852, 78.87000277, 80.30760877,\n",
       "       78.88996952, 78.87998615, 79.98814075, 80.39745909, 81.27599612,\n",
       "       78.87000277, 79.15952065, 85.66868114, 78.87998615, 78.87000277,\n",
       "       78.87000277, 79.62873927, 78.8999529 , 78.87998615, 78.96983652,\n",
       "       79.10960377, 78.87998615, 79.3791549 , 78.9798199 , 78.87000277,\n",
       "       78.9698365 , 87.00645294, 79.4290713 , 79.33922134, 79.02973672,\n",
       "       87.74522239, 96.60047595, 79.14953716, 79.0996204 , 78.87000277,\n",
       "       78.87998615, 78.88996952, 79.0197534 , 79.2992879 , 78.87998615,\n",
       "       79.39912154, 81.04637841, 78.96983652, 78.92990302, 78.87998615,\n",
       "       78.87000277, 78.90993625, 83.45237187, 79.19945398, 97.84839777,\n",
       "       92.54722511, 82.90328558, 78.87998615, 88.62376013, 79.00977002,\n",
       "       84.79014389, 87.33590381, 90.32093249, 89.65204637, 88.20445767,\n",
       "       80.17782484, 78.89995287, 79.41908832, 79.66867227, 83.52225474,\n",
       "       87.4557049 , 79.46900527, 78.9398864 , 90.02143263, 78.9398864 ,\n",
       "       87.12625388, 79.10960377, 79.18947077, 87.77517256, 89.2826615 ,\n",
       "       87.37583757, 78.9798199 , 90.13124977, 78.87000277, 78.95985315,\n",
       "       78.87000277, 80.56717627, 80.39745856, 80.17782437, 80.45735901,\n",
       "       80.4573592 , 78.90993625, 81.62541425, 78.87000277, 79.43905504,\n",
       "       81.02641166, 79.24937094])"
      ]
     },
     "execution_count": 47,
     "metadata": {},
     "output_type": "execute_result"
    }
   ],
   "source": [
    "ccc.sum(axis=0)"
   ]
  },
  {
   "cell_type": "code",
   "execution_count": 48,
   "metadata": {},
   "outputs": [],
   "source": [
    "np.savetxt('output.txt', ccc)"
   ]
  },
  {
   "cell_type": "code",
   "execution_count": null,
   "metadata": {},
   "outputs": [],
   "source": [
    "# 代码行43"
   ]
  }
 ],
 "metadata": {
  "kernelspec": {
   "display_name": "Python 3",
   "language": "python",
   "name": "python3"
  },
  "language_info": {
   "codemirror_mode": {
    "name": "ipython",
    "version": 3
   },
   "file_extension": ".py",
   "mimetype": "text/x-python",
   "name": "python",
   "nbconvert_exporter": "python",
   "pygments_lexer": "ipython3",
   "version": "3.7.3"
  },
  "toc": {
   "base_numbering": 1,
   "nav_menu": {},
   "number_sections": true,
   "sideBar": true,
   "skip_h1_title": false,
   "title_cell": "Table of Contents",
   "title_sidebar": "Contents",
   "toc_cell": false,
   "toc_position": {},
   "toc_section_display": true,
   "toc_window_display": false
  }
 },
 "nbformat": 4,
 "nbformat_minor": 2
}
